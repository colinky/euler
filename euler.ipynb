{
 "cells": [
  {
   "cell_type": "code",
   "execution_count": 1,
   "metadata": {},
   "outputs": [
    {
     "data": {
      "text/plain": [
       "233168"
      ]
     },
     "execution_count": 1,
     "metadata": {},
     "output_type": "execute_result"
    }
   ],
   "source": [
    "def euler1(n: int):\n",
    "    below_n = n-1\n",
    "    below_n3, below_n5, below_n15 = below_n//3, below_n//5, below_n//15\n",
    "    sum3 = 3 * below_n3 * (below_n3+1)//2\n",
    "    sum5 = 5 * below_n5 * (below_n5+1)//2\n",
    "    sum15 = 15 * below_n15 * (below_n15+1)//2\n",
    "    return sum3+sum5-sum15\n",
    "\n",
    "euler1(1000)"
   ]
  },
  {
   "cell_type": "code",
   "execution_count": 2,
   "metadata": {},
   "outputs": [
    {
     "data": {
      "text/plain": [
       "4613732"
      ]
     },
     "execution_count": 2,
     "metadata": {},
     "output_type": "execute_result"
    }
   ],
   "source": [
    "def euler2(n: int):\n",
    "    fib = [1, 1]\n",
    "    ret = 0\n",
    "    while fib[-1] < n:\n",
    "        new_fib = fib[-1]+fib[-2]\n",
    "        fib.append(new_fib)\n",
    "        if new_fib % 2 == 0: ret += new_fib\n",
    "    return ret\n",
    "\n",
    "euler2(4000000)"
   ]
  },
  {
   "cell_type": "code",
   "execution_count": 3,
   "metadata": {},
   "outputs": [
    {
     "data": {
      "text/plain": [
       "6857"
      ]
     },
     "execution_count": 3,
     "metadata": {},
     "output_type": "execute_result"
    }
   ],
   "source": [
    "def is_prime(n: int):\n",
    "    if n <= 3:\n",
    "        if n == 2 or n == 3: return True\n",
    "        else: return False\n",
    "    if n % 6 != 1 and n % 6 != 5: return False\n",
    "    for q in range(2, int(pow(n, 0.5))+1):\n",
    "        if n % q == 0: return False\n",
    "    return True\n",
    "\n",
    "def euler3(input: int):\n",
    "    factors = []\n",
    "    prime = 2\n",
    "    n = input\n",
    "    while n != 1:\n",
    "        if n % prime == 0:\n",
    "            factors.append(prime)\n",
    "            n = n//prime\n",
    "        else:\n",
    "            prime += 1\n",
    "            while not is_prime(prime):\n",
    "                prime += 1\n",
    "    return factors[-1]\n",
    "\n",
    "euler3(600851475143)"
   ]
  },
  {
   "cell_type": "code",
   "execution_count": 4,
   "metadata": {},
   "outputs": [
    {
     "data": {
      "text/plain": [
       "(906609, [993, 913])"
      ]
     },
     "execution_count": 4,
     "metadata": {},
     "output_type": "execute_result"
    }
   ],
   "source": [
    "def euler4():\n",
    "    ret = 0\n",
    "    for p in range(999, 100, -1):\n",
    "        test = p * 1000\n",
    "        test, p = test+(p % 10) * 100, p // 10\n",
    "        test, p = test+(p % 10) * 10, p // 10\n",
    "        test = test+(p % 10)\n",
    "        ret = test\n",
    "\n",
    "        multiple, cnt = 999, []\n",
    "        while test != 1 and multiple >= 100:\n",
    "            if test % multiple == 0:\n",
    "                test = test//multiple\n",
    "                cnt.append(multiple)\n",
    "            else:\n",
    "                multiple -= 1\n",
    "        \n",
    "        if len(cnt) == 2 and test == 1: return ret, cnt\n",
    "\n",
    "euler4()"
   ]
  },
  {
   "cell_type": "code",
   "execution_count": 5,
   "metadata": {},
   "outputs": [
    {
     "data": {
      "text/plain": [
       "232792560"
      ]
     },
     "execution_count": 5,
     "metadata": {},
     "output_type": "execute_result"
    }
   ],
   "source": [
    "def is_prime(n: int):\n",
    "    if n <= 3:\n",
    "        if n == 2 or n == 3: return True\n",
    "        else: return False\n",
    "    if n % 6 != 1 and n % 6 != 5: return False\n",
    "    for q in range(2, int(pow(n, 0.5))+1):\n",
    "        if n % q == 0: return False\n",
    "    return True\n",
    "\n",
    "def euler5(n: int):\n",
    "    multiple = dict()\n",
    "    for p in range(2, n+1):\n",
    "        tmp, prime = dict(), 2\n",
    "        while p != 1:\n",
    "            if p % prime == 0:\n",
    "                if prime in tmp: tmp[prime] += 1\n",
    "                else: tmp[prime] = 1\n",
    "                p = p//prime\n",
    "            else:\n",
    "                prime += 1\n",
    "                while not is_prime(prime):\n",
    "                    prime += 1\n",
    "        for x in tmp.keys():\n",
    "            if x in multiple: multiple[x] = max(multiple[x], tmp[x])\n",
    "            else: multiple[x] = tmp[x]\n",
    "    \n",
    "    ret = 1\n",
    "    for y in multiple.keys():\n",
    "        ret *= pow(y, multiple[y])\n",
    "    return ret\n",
    "\n",
    "euler5(20)\n",
    "\n",
    "def euler5_2(n: int):\n",
    "    if n <= 2: return n\n",
    "    p = 2\n",
    "    ret = 1\n",
    "    while p <= n:\n",
    "        if is_prime(p):\n",
    "            tmp = 1\n",
    "            while tmp * p <= n: \n",
    "                ret *= p\n",
    "                tmp *= p\n",
    "        p += 1\n",
    "    return ret\n",
    "\n",
    "euler5_2(20)"
   ]
  },
  {
   "cell_type": "code",
   "execution_count": 6,
   "metadata": {},
   "outputs": [
    {
     "data": {
      "text/plain": [
       "25164150"
      ]
     },
     "execution_count": 6,
     "metadata": {},
     "output_type": "execute_result"
    }
   ],
   "source": [
    "def euler6(n: int):\n",
    "    sumOfSq = n*(n+1)*(2*n+1)//6\n",
    "    sqOfSum = (n*(n+1)//2)**2\n",
    "    return sqOfSum - sumOfSq\n",
    "\n",
    "euler6(100)"
   ]
  },
  {
   "cell_type": "code",
   "execution_count": 7,
   "metadata": {},
   "outputs": [
    {
     "data": {
      "text/plain": [
       "3"
      ]
     },
     "execution_count": 7,
     "metadata": {},
     "output_type": "execute_result"
    }
   ],
   "source": [
    "def euler7(n: int):\n",
    "    if n == 1: return 2\n",
    "    if n == 2: return 3\n",
    "\n",
    "    # primes = [2,3]\n",
    "    # tmp = 4\n",
    "    # while len(primes) < n:\n",
    "    #     test_prime = True\n",
    "    #     if tmp % 6 == 1 or tmp % 6 == 5:\n",
    "    #         idx, q = 0, primes[0]\n",
    "    #         while q <= int(pow(tmp, 0.5)):\n",
    "    #             q = primes[idx]                       \n",
    "    #             if q in primes and tmp % q == 0:\n",
    "    #                 test_prime = False\n",
    "    #                 break\n",
    "    #             else: idx += 1\n",
    "    #         if test_prime: primes.append(tmp)\n",
    "    #     tmp += 1\n",
    "\n",
    "    # return primes[-1]\n",
    "\n",
    "    tmp, cnt = 3, 2\n",
    "    while cnt < n:\n",
    "        if tmp % 6 == 1 or tmp % 6 == 5:\n",
    "            if is_prime(tmp):\n",
    "                cnt += 1\n",
    "                if cnt == n: return tmp\n",
    "        tmp += 2\n",
    "\n",
    "euler7(2)"
   ]
  },
  {
   "cell_type": "code",
   "execution_count": 8,
   "metadata": {},
   "outputs": [
    {
     "name": "stdout",
     "output_type": "stream",
     "text": [
      "23514624000\n"
     ]
    }
   ],
   "source": [
    "def euler8(n: int, num_string: str):\n",
    "    ret = 0\n",
    "    string = num_string.replace(\"\\n\", \"\")\n",
    "    for i in range(len(string)-n):\n",
    "        subst = [int(c) for c in string[i:i+n]]\n",
    "        tmp = 1\n",
    "        for digit in subst:\n",
    "            tmp *= digit\n",
    "        ret = max(ret, tmp)\n",
    "    print(ret)\n",
    "\n",
    "num_string = \"\"\"\n",
    "73167176531330624919225119674426574742355349194934\n",
    "96983520312774506326239578318016984801869478851843\n",
    "85861560789112949495459501737958331952853208805511\n",
    "12540698747158523863050715693290963295227443043557\n",
    "66896648950445244523161731856403098711121722383113\n",
    "62229893423380308135336276614282806444486645238749\n",
    "30358907296290491560440772390713810515859307960866\n",
    "70172427121883998797908792274921901699720888093776\n",
    "65727333001053367881220235421809751254540594752243\n",
    "52584907711670556013604839586446706324415722155397\n",
    "53697817977846174064955149290862569321978468622482\n",
    "83972241375657056057490261407972968652414535100474\n",
    "82166370484403199890008895243450658541227588666881\n",
    "16427171479924442928230863465674813919123162824586\n",
    "17866458359124566529476545682848912883142607690042\n",
    "24219022671055626321111109370544217506941658960408\n",
    "07198403850962455444362981230987879927244284909188\n",
    "84580156166097919133875499200524063689912560717606\n",
    "05886116467109405077541002256983155200055935729725\n",
    "71636269561882670428252483600823257530420752963450\n",
    "\"\"\"\n",
    "\n",
    "euler8(n=13, num_string=num_string)"
   ]
  },
  {
   "cell_type": "code",
   "execution_count": 9,
   "metadata": {},
   "outputs": [
    {
     "data": {
      "text/plain": [
       "(200, 375, 425, 31875000)"
      ]
     },
     "execution_count": 9,
     "metadata": {},
     "output_type": "execute_result"
    }
   ],
   "source": [
    "def euler9(n: int):\n",
    "    \"\"\"\n",
    "    a < b < c < a+b\n",
    "    \"\"\"\n",
    "    for a in range(n//3):\n",
    "        for b in range(n//2):\n",
    "            if a**2 + b**2 == (n-a-b)**2:\n",
    "                return a, b, (n-a-b), a*b*(n-a-b)\n",
    "\n",
    "euler9(1000)"
   ]
  },
  {
   "cell_type": "code",
   "execution_count": 10,
   "metadata": {},
   "outputs": [
    {
     "data": {
      "text/plain": [
       "142913828922"
      ]
     },
     "execution_count": 10,
     "metadata": {},
     "output_type": "execute_result"
    }
   ],
   "source": [
    "def euler10(n: int):\n",
    "    # ret = 0\n",
    "    # for i in range(n+1):\n",
    "    #     ret += i if is_prime(i) else 0\n",
    "    # return ret\n",
    "\n",
    "    if n < 2: return 0\n",
    "    \n",
    "    tb = [True]*(n+1)\n",
    "    tb[0], tb[1] = False, False\n",
    "    for p in range(int(pow(n, 0.5))+1):\n",
    "        if is_prime(p):\n",
    "            for i in range(p*2, n+1, p):\n",
    "                tb[i] = False\n",
    "\n",
    "    return sum([x*y for (x, y) in zip(tb, range(n+1))])\n",
    "\n",
    "euler10(n=2000000)"
   ]
  },
  {
   "cell_type": "code",
   "execution_count": 11,
   "metadata": {},
   "outputs": [
    {
     "data": {
      "text/plain": [
       "70600674"
      ]
     },
     "execution_count": 11,
     "metadata": {},
     "output_type": "execute_result"
    }
   ],
   "source": [
    "def euler11(num_string: str):\n",
    "    numbers = [list(map(int, substr.split(\" \"))) for substr in num_string.split(\"\\n\")]\n",
    "\n",
    "    ret = 0\n",
    "    for i in range(0, 20):\n",
    "        for j in range(0, 20):\n",
    "            direct = [(+1, -1), (+1, 0), (+1, +1), (-1, -1), (-1, 0), (-1, +1), (0, +1), (0, -1)]\n",
    "            for (idx, idy) in direct:\n",
    "                if i+idx*3 < 20 and i+idx*3 >= 0 and j+idy*3 < 20 and j+idy*3 >= 0:\n",
    "                    ret = max(ret, numbers[i+idx*0][j+idy*0]*numbers[i+idx*1][j+idy*1]*numbers[i+idx*2][j+idy*2]*numbers[i+idx*3][j+idy*3])\n",
    "\n",
    "    return ret\n",
    "\n",
    "num_string = \"\"\"08 02 22 97 38 15 00 40 00 75 04 05 07 78 52 12 50 77 91 08\n",
    "49 49 99 40 17 81 18 57 60 87 17 40 98 43 69 48 04 56 62 00\n",
    "81 49 31 73 55 79 14 29 93 71 40 67 53 88 30 03 49 13 36 65\n",
    "52 70 95 23 04 60 11 42 69 24 68 56 01 32 56 71 37 02 36 91\n",
    "22 31 16 71 51 67 63 89 41 92 36 54 22 40 40 28 66 33 13 80\n",
    "24 47 32 60 99 03 45 02 44 75 33 53 78 36 84 20 35 17 12 50\n",
    "32 98 81 28 64 23 67 10 26 38 40 67 59 54 70 66 18 38 64 70\n",
    "67 26 20 68 02 62 12 20 95 63 94 39 63 08 40 91 66 49 94 21\n",
    "24 55 58 05 66 73 99 26 97 17 78 78 96 83 14 88 34 89 63 72\n",
    "21 36 23 09 75 00 76 44 20 45 35 14 00 61 33 97 34 31 33 95\n",
    "78 17 53 28 22 75 31 67 15 94 03 80 04 62 16 14 09 53 56 92\n",
    "16 39 05 42 96 35 31 47 55 58 88 24 00 17 54 24 36 29 85 57\n",
    "86 56 00 48 35 71 89 07 05 44 44 37 44 60 21 58 51 54 17 58\n",
    "19 80 81 68 05 94 47 69 28 73 92 13 86 52 17 77 04 89 55 40\n",
    "04 52 08 83 97 35 99 16 07 97 57 32 16 26 26 79 33 27 98 66\n",
    "88 36 68 87 57 62 20 72 03 46 33 67 46 55 12 32 63 93 53 69\n",
    "04 42 16 73 38 25 39 11 24 94 72 18 08 46 29 32 40 62 76 36\n",
    "20 69 36 41 72 30 23 88 34 62 99 69 82 67 59 85 74 04 36 16\n",
    "20 73 35 29 78 31 90 01 74 31 49 71 48 86 81 16 23 57 05 54\n",
    "01 70 54 71 83 51 54 69 16 92 33 48 61 43 52 01 89 19 67 48\"\"\"\n",
    "\n",
    "euler11(num_string)"
   ]
  },
  {
   "cell_type": "code",
   "execution_count": 12,
   "metadata": {},
   "outputs": [
    {
     "data": {
      "text/plain": [
       "76576500"
      ]
     },
     "execution_count": 12,
     "metadata": {},
     "output_type": "execute_result"
    }
   ],
   "source": [
    "def euler12(n: int):\n",
    "    i = 1\n",
    "    while True:\n",
    "        tmp, prime = dict(), 2\n",
    "        triang = i*(i+1)//2\n",
    "        while triang != 1:\n",
    "            if triang % prime == 0:\n",
    "                if prime in tmp: tmp[prime] += 1\n",
    "                else: tmp[prime] = 1\n",
    "                triang = triang//prime\n",
    "            else:\n",
    "                prime += 1\n",
    "                while not is_prime(prime):\n",
    "                    prime += 1\n",
    "        divisors = 1\n",
    "        for y in tmp.keys():\n",
    "            divisors *= tmp[y]+1\n",
    "        if divisors - 1 >= n: \n",
    "            return i*(i+1)//2\n",
    "        else: \n",
    "            # print(i*(i+1)//2, divisors)\n",
    "            i += 1\n",
    "\n",
    "euler12(500)\n",
    "\n",
    "def euler12_2(n: int):\n",
    "    i = 1\n",
    "    divisors = 1\n",
    "\n",
    "    while True:\n",
    "        divisors = 0\n",
    "        triang = i*(i+1)//2\n",
    "        for q in range(1, int(pow(i*(i+1)//2,0.5))+1):\n",
    "            if triang % q == 0:\n",
    "                if q*q == triang: \n",
    "                    divisors += 1\n",
    "                else: \n",
    "                    divisors += 2\n",
    "        if divisors - 1 >= n: \n",
    "            return triang\n",
    "        else: \n",
    "            i += 1\n",
    "\n",
    "euler12_2(500)"
   ]
  },
  {
   "cell_type": "code",
   "execution_count": 13,
   "metadata": {},
   "outputs": [
    {
     "data": {
      "text/plain": [
       "'5537376230'"
      ]
     },
     "execution_count": 13,
     "metadata": {},
     "output_type": "execute_result"
    }
   ],
   "source": [
    "def euler13(num_string: str):\n",
    "    numbers = [substr for substr in num_string.split(\"\\n\")]\n",
    "    carry = 0\n",
    "    for i in range(4):\n",
    "        regroup = 0\n",
    "        for j in range(len(numbers)):\n",
    "            regroup += int(numbers[j][-10:])\n",
    "            numbers[j] = numbers[j][:-10]\n",
    "        carry = (regroup + carry) // 10000000000\n",
    "        # print(carry)\n",
    "    regroup = 0\n",
    "    for j in range(len(numbers)):\n",
    "        regroup += int(numbers[j][-10:])\n",
    "    return str(regroup+carry)[:10]\n",
    "\n",
    "num_string = \"\"\"37107287533902102798797998220837590246510135740250\n",
    "46376937677490009712648124896970078050417018260538\n",
    "74324986199524741059474233309513058123726617309629\n",
    "91942213363574161572522430563301811072406154908250\n",
    "23067588207539346171171980310421047513778063246676\n",
    "89261670696623633820136378418383684178734361726757\n",
    "28112879812849979408065481931592621691275889832738\n",
    "44274228917432520321923589422876796487670272189318\n",
    "47451445736001306439091167216856844588711603153276\n",
    "70386486105843025439939619828917593665686757934951\n",
    "62176457141856560629502157223196586755079324193331\n",
    "64906352462741904929101432445813822663347944758178\n",
    "92575867718337217661963751590579239728245598838407\n",
    "58203565325359399008402633568948830189458628227828\n",
    "80181199384826282014278194139940567587151170094390\n",
    "35398664372827112653829987240784473053190104293586\n",
    "86515506006295864861532075273371959191420517255829\n",
    "71693888707715466499115593487603532921714970056938\n",
    "54370070576826684624621495650076471787294438377604\n",
    "53282654108756828443191190634694037855217779295145\n",
    "36123272525000296071075082563815656710885258350721\n",
    "45876576172410976447339110607218265236877223636045\n",
    "17423706905851860660448207621209813287860733969412\n",
    "81142660418086830619328460811191061556940512689692\n",
    "51934325451728388641918047049293215058642563049483\n",
    "62467221648435076201727918039944693004732956340691\n",
    "15732444386908125794514089057706229429197107928209\n",
    "55037687525678773091862540744969844508330393682126\n",
    "18336384825330154686196124348767681297534375946515\n",
    "80386287592878490201521685554828717201219257766954\n",
    "78182833757993103614740356856449095527097864797581\n",
    "16726320100436897842553539920931837441497806860984\n",
    "48403098129077791799088218795327364475675590848030\n",
    "87086987551392711854517078544161852424320693150332\n",
    "59959406895756536782107074926966537676326235447210\n",
    "69793950679652694742597709739166693763042633987085\n",
    "41052684708299085211399427365734116182760315001271\n",
    "65378607361501080857009149939512557028198746004375\n",
    "35829035317434717326932123578154982629742552737307\n",
    "94953759765105305946966067683156574377167401875275\n",
    "88902802571733229619176668713819931811048770190271\n",
    "25267680276078003013678680992525463401061632866526\n",
    "36270218540497705585629946580636237993140746255962\n",
    "24074486908231174977792365466257246923322810917141\n",
    "91430288197103288597806669760892938638285025333403\n",
    "34413065578016127815921815005561868836468420090470\n",
    "23053081172816430487623791969842487255036638784583\n",
    "11487696932154902810424020138335124462181441773470\n",
    "63783299490636259666498587618221225225512486764533\n",
    "67720186971698544312419572409913959008952310058822\n",
    "95548255300263520781532296796249481641953868218774\n",
    "76085327132285723110424803456124867697064507995236\n",
    "37774242535411291684276865538926205024910326572967\n",
    "23701913275725675285653248258265463092207058596522\n",
    "29798860272258331913126375147341994889534765745501\n",
    "18495701454879288984856827726077713721403798879715\n",
    "38298203783031473527721580348144513491373226651381\n",
    "34829543829199918180278916522431027392251122869539\n",
    "40957953066405232632538044100059654939159879593635\n",
    "29746152185502371307642255121183693803580388584903\n",
    "41698116222072977186158236678424689157993532961922\n",
    "62467957194401269043877107275048102390895523597457\n",
    "23189706772547915061505504953922979530901129967519\n",
    "86188088225875314529584099251203829009407770775672\n",
    "11306739708304724483816533873502340845647058077308\n",
    "82959174767140363198008187129011875491310547126581\n",
    "97623331044818386269515456334926366572897563400500\n",
    "42846280183517070527831839425882145521227251250327\n",
    "55121603546981200581762165212827652751691296897789\n",
    "32238195734329339946437501907836945765883352399886\n",
    "75506164965184775180738168837861091527357929701337\n",
    "62177842752192623401942399639168044983993173312731\n",
    "32924185707147349566916674687634660915035914677504\n",
    "99518671430235219628894890102423325116913619626622\n",
    "73267460800591547471830798392868535206946944540724\n",
    "76841822524674417161514036427982273348055556214818\n",
    "97142617910342598647204516893989422179826088076852\n",
    "87783646182799346313767754307809363333018982642090\n",
    "10848802521674670883215120185883543223812876952786\n",
    "71329612474782464538636993009049310363619763878039\n",
    "62184073572399794223406235393808339651327408011116\n",
    "66627891981488087797941876876144230030984490851411\n",
    "60661826293682836764744779239180335110989069790714\n",
    "85786944089552990653640447425576083659976645795096\n",
    "66024396409905389607120198219976047599490197230297\n",
    "64913982680032973156037120041377903785566085089252\n",
    "16730939319872750275468906903707539413042652315011\n",
    "94809377245048795150954100921645863754710598436791\n",
    "78639167021187492431995700641917969777599028300699\n",
    "15368713711936614952811305876380278410754449733078\n",
    "40789923115535562561142322423255033685442488917353\n",
    "44889911501440648020369068063960672322193204149535\n",
    "41503128880339536053299340368006977710650566631954\n",
    "81234880673210146739058568557934581403627822703280\n",
    "82616570773948327592232845941706525094512325230608\n",
    "22918802058777319719839450180888072429661980811197\n",
    "77158542502016545090413245809786882778948721859617\n",
    "72107838435069186155435662884062257473692284509516\n",
    "20849603980134001723930671666823555245252804609722\n",
    "53503534226472524250874054075591789781264330331690\"\"\"\n",
    "\n",
    "euler13(num_string)"
   ]
  },
  {
   "cell_type": "code",
   "execution_count": 14,
   "metadata": {},
   "outputs": [
    {
     "data": {
      "text/plain": [
       "837799"
      ]
     },
     "execution_count": 14,
     "metadata": {},
     "output_type": "execute_result"
    }
   ],
   "source": [
    "def euler14(n: int):\n",
    "    k, v = 1, 1\n",
    "    tb = [0]*(n+1)\n",
    "    tb[1], tb[2] = 1, 2\n",
    "    for idx in range(1, n+1):\n",
    "        cnt, q = 1, idx\n",
    "        while q > 1:\n",
    "            if q % 2: q = 3*q+1 \n",
    "            else: q = q//2\n",
    "            if q < n+1 and tb[q] != 0: \n",
    "                cnt += tb[q]\n",
    "                break\n",
    "            cnt += 1\n",
    "        tb[idx] = cnt\n",
    "        if cnt > v:\n",
    "            k, v = idx, cnt\n",
    "    return k\n",
    "\n",
    "euler14(n=1000000)"
   ]
  },
  {
   "cell_type": "code",
   "execution_count": 15,
   "metadata": {},
   "outputs": [
    {
     "data": {
      "text/plain": [
       "137846528820"
      ]
     },
     "execution_count": 15,
     "metadata": {},
     "output_type": "execute_result"
    }
   ],
   "source": [
    "def euler15(m: int, n: int):\n",
    "    # ans = 1\n",
    "    # for i in range(n):\n",
    "    #     ans *= (m+n-i)\n",
    "    # for i in range(n):\n",
    "    #     ans //= n-i\n",
    "    # return ans\n",
    "    lattice = [[0]*(n+1)]*(m+1)\n",
    "    for i in range(m+1):\n",
    "        for j in range(n+1):\n",
    "            if i == 0 or j == 0: lattice[i][j] = 1\n",
    "            else: lattice[i][j] = lattice[i-1][j] + lattice[i][j-1] \n",
    "    return lattice[m][n]\n",
    "\n",
    "euler15(20, 20)"
   ]
  },
  {
   "cell_type": "code",
   "execution_count": 16,
   "metadata": {},
   "outputs": [
    {
     "data": {
      "text/plain": [
       "7"
      ]
     },
     "execution_count": 16,
     "metadata": {},
     "output_type": "execute_result"
    }
   ],
   "source": [
    "def euler16(n: int):\n",
    "    number = pow(2, n)\n",
    "    ret = 0\n",
    "    while number > 0:\n",
    "        ret += number % 10\n",
    "        number //= 10\n",
    "    return ret \n",
    "\n",
    "euler16(10)"
   ]
  },
  {
   "cell_type": "code",
   "execution_count": 17,
   "metadata": {},
   "outputs": [
    {
     "data": {
      "text/plain": [
       "21124"
      ]
     },
     "execution_count": 17,
     "metadata": {},
     "output_type": "execute_result"
    }
   ],
   "source": [
    "def euler17(n: int):\n",
    "    first20 = ['', 'one', 'two', 'three', 'four', 'five', 'six', 'seven', 'eight', 'nine', 'ten', 'eleven', 'twelve', 'thirteen', 'fourteen', 'fifteen', 'sixteen', 'seventeen', 'eighteen', 'nineteen']\n",
    "    multi10s = ['', '', 'twenty', 'thirty', 'forty', 'fifty', 'sixty', 'seventy', 'eighty', 'ninety']\n",
    "    chars20 = [len(s) for s in first20]\n",
    "    chars10s = [len(s) for s in multi10s]\n",
    "    chars100 = [len(s) for s in ['hundred', 'and']]\n",
    "    chars1000 = [len(s) for s in ['thousand', 'and']]\n",
    "    \n",
    "    ans = 0\n",
    "    for i in range(1, n+1):\n",
    "        if i % 100 < 20: \n",
    "            ans += chars20[i % 100]\n",
    "        else:\n",
    "            ans += chars10s[(i % 100)//10] + chars20[(i % 100) % 10]\n",
    "        if (i % 1000) // 100 > 0:\n",
    "            ans += chars20[(i % 1000)//100] + chars100[0]\n",
    "            if i % 100 > 0: ans += chars100[1]\n",
    "        if i // 1000 > 0:\n",
    "            ans += chars20[i//1000] + chars1000[0]\n",
    "            if i % 1000 > 0: ans += chars1000[1]        \n",
    "    return ans\n",
    "\n",
    "euler17(1000)"
   ]
  },
  {
   "cell_type": "code",
   "execution_count": 18,
   "metadata": {},
   "outputs": [
    {
     "data": {
      "text/plain": [
       "1074"
      ]
     },
     "execution_count": 18,
     "metadata": {},
     "output_type": "execute_result"
    }
   ],
   "source": [
    "def euler18(num_string: str):\n",
    "    numbers = [list(map(int, substr.split(\" \"))) for substr in num_string.split(\"\\n\")][::-1]\n",
    "    len_numbers = len(numbers)\n",
    "    for i in range(len_numbers-1):\n",
    "        for j in range(len(numbers[i])-1):\n",
    "            numbers[i+1][j] += max(numbers[i][j], numbers[i][j+1])\n",
    "    return numbers[len_numbers-1][0]\n",
    "\n",
    "num_string = \"\"\"75\n",
    "95 64\n",
    "17 47 82\n",
    "18 35 87 10\n",
    "20 04 82 47 65\n",
    "19 01 23 75 03 34\n",
    "88 02 77 73 07 63 67\n",
    "99 65 04 28 06 16 70 92\n",
    "41 41 26 56 83 40 80 70 33\n",
    "41 48 72 33 47 32 37 16 94 29\n",
    "53 71 44 65 25 43 91 52 97 51 14\n",
    "70 11 33 28 77 73 17 78 39 68 17 57\n",
    "91 71 52 38 17 14 91 43 58 50 27 29 48\n",
    "63 66 04 68 89 53 67 30 73 16 69 87 40 31\n",
    "04 62 98 27 23 09 70 98 73 93 38 53 60 04 23\"\"\"\n",
    "\n",
    "euler18(num_string)"
   ]
  },
  {
   "cell_type": "code",
   "execution_count": 19,
   "metadata": {},
   "outputs": [
    {
     "data": {
      "text/plain": [
       "171"
      ]
     },
     "execution_count": 19,
     "metadata": {},
     "output_type": "execute_result"
    }
   ],
   "source": [
    "def euler19(m: int, n: int):\n",
    "    day = 2\n",
    "    cnt = 0\n",
    "    no_leap = [31, 28, 31, 30, 31, 30, 31, 31, 30, 31, 30, 31]\n",
    "    leap = [31, 28, 31, 30, 31, 30, 31, 31, 30, 31, 30, 31]\n",
    "    yr = m\n",
    "    while yr >= m and yr <= n:\n",
    "        if yr % 4 and not (yr % 400):\n",
    "            for days in no_leap:\n",
    "                day = (day + days) % 7\n",
    "                if day == 0: cnt += 1\n",
    "        else:\n",
    "            for days in leap:\n",
    "                day = (day + days) % 7\n",
    "                if day == 0: cnt += 1\n",
    "        yr += 1\n",
    "    return cnt\n",
    "\n",
    "euler19(1901, 2000)"
   ]
  },
  {
   "cell_type": "code",
   "execution_count": 20,
   "metadata": {},
   "outputs": [
    {
     "data": {
      "text/plain": [
       "325494"
      ]
     },
     "execution_count": 20,
     "metadata": {},
     "output_type": "execute_result"
    }
   ],
   "source": [
    "def euler20(n: int):\n",
    "    fac, i = 1, 1\n",
    "    for i in range(1, n+1):\n",
    "        p = i\n",
    "        while True:\n",
    "            if p % 5 == 0: \n",
    "                fac //= 2\n",
    "                p //= 5\n",
    "            else: \n",
    "                fac *= p\n",
    "                break\n",
    "        \n",
    "    ret = 0\n",
    "    while fac > 0:\n",
    "        fac, digit = divmod(fac, 10)\n",
    "        ret += digit\n",
    "    return ret \n",
    "\n",
    "euler20(20000)"
   ]
  },
  {
   "cell_type": "code",
   "execution_count": 21,
   "metadata": {},
   "outputs": [
    {
     "data": {
      "text/plain": [
       "31626"
      ]
     },
     "execution_count": 21,
     "metadata": {},
     "output_type": "execute_result"
    }
   ],
   "source": [
    "def sumDivisors(n: int):\n",
    "    ret = 0\n",
    "    for q in range(1, int(pow(n,0.5))+1):\n",
    "        if n % q == 0:\n",
    "            if q*q == n: \n",
    "                ret += q\n",
    "            else: \n",
    "                ret += (q + n//q)\n",
    "    return ret - n\n",
    "\n",
    "\n",
    "def euler21(n: int):\n",
    "    amicables = set()\n",
    "    for m in range(1, n+1):\n",
    "        sumDiv = sumDivisors(m)\n",
    "        if m != sumDiv and m == sumDivisors(sumDiv): \n",
    "            amicables.update([m, sumDiv])\n",
    "    return sum(amicables)\n",
    "\n",
    "euler21(10000)"
   ]
  },
  {
   "cell_type": "code",
   "execution_count": 22,
   "metadata": {},
   "outputs": [
    {
     "data": {
      "text/plain": [
       "871198282"
      ]
     },
     "execution_count": 22,
     "metadata": {},
     "output_type": "execute_result"
    }
   ],
   "source": [
    "def euler22(f: str):\n",
    "    ret = 0\n",
    "    names = sorted(list(open(f).read().replace('\"', '').split(',')))\n",
    "    for i in range(len(names)):\n",
    "        ret += sum([(ord(c)-ord('A')+1) for c in names[i]]) * (i+1)\n",
    "    return ret \n",
    "\n",
    "euler22('./0022_names.txt')"
   ]
  },
  {
   "cell_type": "code",
   "execution_count": 23,
   "metadata": {},
   "outputs": [
    {
     "data": {
      "text/plain": [
       "4179871"
      ]
     },
     "execution_count": 23,
     "metadata": {},
     "output_type": "execute_result"
    }
   ],
   "source": [
    "def sumDivisors(n: int):\n",
    "    ret = 0\n",
    "    for q in range(1, int(pow(n,0.5))+1):\n",
    "        if n % q == 0:\n",
    "            if q*q == n: \n",
    "                ret += q\n",
    "            else: \n",
    "                ret += (q + n//q)\n",
    "    return ret - n\n",
    "\n",
    "def euler23():\n",
    "    abundant = [0]*(28123+1)\n",
    "    for i in range(1, (28123+1)):\n",
    "        if sumDivisors(i) > i: abundant[i] = 1\n",
    "        elif sumDivisors(i) < i: abundant[i] = -1\n",
    "        else: abundant[i] = 0\n",
    "    flag = [False] * (28123+1)\n",
    "    for i in range(1, (28123+1)):\n",
    "        for j in range(1, i//2+1):\n",
    "            if abundant[j] + abundant[i-j] == 2: \n",
    "                flag[i] = True\n",
    "    return 28123*(28123+1)//2 - sum([x*y for (x, y) in zip(flag, range(28124))])\n",
    "        \n",
    "euler23()"
   ]
  },
  {
   "cell_type": "code",
   "execution_count": 27,
   "metadata": {},
   "outputs": [
    {
     "data": {
      "text/plain": [
       "4179871"
      ]
     },
     "execution_count": 27,
     "metadata": {},
     "output_type": "execute_result"
    }
   ],
   "source": [
    "def sumDivisors(n: int):\n",
    "    ret = 0\n",
    "    for q in range(1, int(pow(n,0.5))+1):\n",
    "        if n % q == 0:\n",
    "            if q*q == n: \n",
    "                ret += q\n",
    "            else: \n",
    "                ret += (q + n//q)\n",
    "    return ret - n\n",
    "\n",
    "def euler23():\n",
    "    abundant = [0]*(28123+1)\n",
    "    for i in range(1, (28123+1)):\n",
    "        if sumDivisors(i) > i: abundant[i] = 1\n",
    "        elif sumDivisors(i) < i: abundant[i] = -1\n",
    "        else: abundant[i] = 0\n",
    "    flag = [False] * (28123+1)\n",
    "    for i in range(1, (28123+1)):\n",
    "        for j in range(1, i//2+1):\n",
    "            if abundant[j] + abundant[i-j] == 2: \n",
    "                flag[i] = True\n",
    "    return 28123*(28123+1)//2 - sum([x*y for (x, y) in zip(flag, range(28124))])\n",
    "\n",
    "euler23()"
   ]
  },
  {
   "cell_type": "code",
   "execution_count": 25,
   "metadata": {},
   "outputs": [
    {
     "data": {
      "text/plain": [
       "'2783915460'"
      ]
     },
     "execution_count": 25,
     "metadata": {},
     "output_type": "execute_result"
    }
   ],
   "source": [
    "def euler24(n: int):\n",
    "    m = n-1\n",
    "    i, lexicon = 2, []\n",
    "    while m > 0:\n",
    "        m, r = m//i, m%i\n",
    "        lexicon.append(r)\n",
    "        i += 1\n",
    "    ans = []\n",
    "    perm = list(range(10))\n",
    "    for l in lexicon[::-1]:\n",
    "        ans.append(perm.pop(l))\n",
    "    return ''.join(map(str, ans + perm))\n",
    "\n",
    "euler24(1000000)"
   ]
  },
  {
   "cell_type": "code",
   "execution_count": 26,
   "metadata": {},
   "outputs": [
    {
     "data": {
      "text/plain": [
       "4782"
      ]
     },
     "execution_count": 26,
     "metadata": {},
     "output_type": "execute_result"
    }
   ],
   "source": [
    "def euler25(n: int):\n",
    "    if n == 1: return 1\n",
    "    f1, f2 = 1, 1\n",
    "    cnt = 2\n",
    "    while len(str(f2)) < n:\n",
    "        f1, f2 = f2, f1+f2\n",
    "        cnt += 1\n",
    "    return cnt\n",
    "\n",
    "euler25(1000)"
   ]
  },
  {
   "cell_type": "code",
   "execution_count": 23,
   "metadata": {},
   "outputs": [
    {
     "data": {
      "text/plain": [
       "(983, 982)"
      ]
     },
     "execution_count": 23,
     "metadata": {},
     "output_type": "execute_result"
    }
   ],
   "source": [
    "def is_prime(n: int):\n",
    "    if n <= 3:\n",
    "        if n == 2 or n == 3: return True\n",
    "        else: return False\n",
    "    if n % 6 != 1 and n % 6 != 5: return False\n",
    "    for q in range(2, int(pow(n, 0.5))+1):\n",
    "        if n % q == 0: return False\n",
    "    return True\n",
    "\n",
    "def euler26(n: int):\n",
    "    k, v = 0, 0\n",
    "    for i in range(1, n):\n",
    "        if is_prime(i) and 10**(i-1) % i == 1:\n",
    "            flag = True\n",
    "            for j in range(2, i):\n",
    "                if 10**(j-1) % i == 1:\n",
    "                    flag = False\n",
    "            if flag == True: \n",
    "                k, v = i, i-1\n",
    "    return k, v\n",
    "\n",
    "euler26(1000)"
   ]
  },
  {
   "cell_type": "code",
   "execution_count": 30,
   "metadata": {},
   "outputs": [
    {
     "data": {
      "text/plain": [
       "(-59231, -61, 971, 71)"
      ]
     },
     "execution_count": 30,
     "metadata": {},
     "output_type": "execute_result"
    }
   ],
   "source": [
    "def is_prime(n: int):\n",
    "    n = abs(n)\n",
    "    if n <= 3:\n",
    "        if n == 2 or n == 3: return True\n",
    "        else: return False\n",
    "    if n % 6 != 1 and n % 6 != 5: return False\n",
    "    for q in range(2, int(pow(n, 0.5))+1):\n",
    "        if n % q == 0: return False\n",
    "    return True\n",
    "\n",
    "def euler27(m: int):\n",
    "    a, b, k = 0, 0, 0\n",
    "    for b0 in range(-m+1, m, 1):\n",
    "        for b1 in range(-m, m+1, 1):\n",
    "            flag = True\n",
    "            n, cnt = 0, 0\n",
    "            while flag:\n",
    "                if is_prime(n**2 + b0*n + b1):\n",
    "                    cnt += 1\n",
    "                    n += 1\n",
    "                else: flag = False\n",
    "            if cnt > k:\n",
    "                a, b, k = b0, b1, cnt\n",
    "    return a*b, a, b, k\n",
    "\n",
    "def euler27_2(m: int):\n",
    "    a, b, k = 0, 0, 0\n",
    "    primes = []\n",
    "    for i in range(m+1):\n",
    "        if is_prime(i): primes.append(i)\n",
    "    for b1 in primes:\n",
    "        for b0 in [p-b1-1 for p in primes]:\n",
    "            flag = True\n",
    "            n, cnt = 0, 0\n",
    "            while flag:\n",
    "                if is_prime(n**2 + b0*n + b1):\n",
    "                    cnt += 1\n",
    "                    n += 1\n",
    "                else: flag = False\n",
    "            if cnt > k:\n",
    "                a, b, k = b0, b1, cnt\n",
    "    return a*b, a, b, k\n",
    "\n",
    "euler27(1000) \n",
    "\n",
    "euler27_2(1000) "
   ]
  },
  {
   "cell_type": "code",
   "execution_count": 40,
   "metadata": {},
   "outputs": [
    {
     "data": {
      "text/plain": [
       "669171001"
      ]
     },
     "execution_count": 40,
     "metadata": {},
     "output_type": "execute_result"
    }
   ],
   "source": [
    "def euler28(m: int):\n",
    "    ans = 0\n",
    "    for i in range(m, 1, -2):\n",
    "        ans += 4*(i**2)-6*(i-1)\n",
    "    return ans + 1\n",
    "euler28(1001)"
   ]
  },
  {
   "cell_type": "code",
   "execution_count": 80,
   "metadata": {},
   "outputs": [
    {
     "data": {
      "text/plain": [
       "9183"
      ]
     },
     "execution_count": 80,
     "metadata": {},
     "output_type": "execute_result"
    }
   ],
   "source": [
    "def euler29(m: int):\n",
    "    pow2 = set()\n",
    "    for i in range(1, 6+1):\n",
    "        pow2 = pow2.union(set(range(2*i, (m+1)*i, i)))\n",
    "    pow3 = set()\n",
    "    for i in range(1, 4+1):\n",
    "        pow3 = pow3.union(set(range(2*i, (m+1)*i, i)))\n",
    "    pow5 = set()\n",
    "    for i in range(1, 2+1):\n",
    "        pow5 = pow5.union(set(range(2*i, (m+1)*i, i)))        \n",
    "    return len(pow2) + len(pow3)+ len(pow5)*4 + ((m-1)-6*1-4*1-2*4)*(m-1)\n",
    "euler29(100)"
   ]
  },
  {
   "cell_type": "code",
   "execution_count": 4,
   "metadata": {},
   "outputs": [
    {
     "data": {
      "text/plain": [
       "443839"
      ]
     },
     "execution_count": 4,
     "metadata": {},
     "output_type": "execute_result"
    }
   ],
   "source": [
    "def euler30(m: int):\n",
    "    ans = 0\n",
    "    for i in range(2, 10**(m+1+m//10)):\n",
    "        tmp, digits = 0, i\n",
    "        while digits > 0:\n",
    "            tmp += (digits % 10) ** m\n",
    "            digits //= 10\n",
    "        if tmp == i: \n",
    "            ans += i\n",
    "    return ans\n",
    "\n",
    "euler30(5)"
   ]
  },
  {
   "cell_type": "code",
   "execution_count": 61,
   "metadata": {},
   "outputs": [
    {
     "data": {
      "text/plain": [
       "73682"
      ]
     },
     "execution_count": 61,
     "metadata": {},
     "output_type": "execute_result"
    }
   ],
   "source": [
    "def euler31(m: int):\n",
    "    coins = [1, 2, 5, 10, 20, 50, 100, 200]\n",
    "    cache = [[0 for i in range(m+1)] for j in range(len(coins))]\n",
    "    for j in range(len(coins)):\n",
    "        cache[j][0] = 1\n",
    "        for i in range(1,m+1):\n",
    "            if i < coins[j]: \n",
    "                cache[j][i] = cache[j-1][i]\n",
    "            else:\n",
    "                for k in range(len(coins)):\n",
    "                    cache[j][i] += (cache[k][i-coins[k]] if i-coins[k] >= 0 else 0)\n",
    "    return cache[len(coins)-1][m]\n",
    "\n",
    "euler31(200)"
   ]
  },
  {
   "cell_type": "code",
   "execution_count": 24,
   "metadata": {},
   "outputs": [
    {
     "name": "stdout",
     "output_type": "stream",
     "text": [
      "138 42 5796\n",
      "157 28 4396\n",
      "159 48 7632\n",
      "1738 4 6952\n",
      "186 39 7254\n",
      "1963 4 7852\n",
      "198 27 5346\n",
      "297 18 5346\n",
      "483 12 5796\n"
     ]
    },
    {
     "data": {
      "text/plain": [
       "45228"
      ]
     },
     "execution_count": 24,
     "metadata": {},
     "output_type": "execute_result"
    }
   ],
   "source": [
    "def permutation(lst: list, n: int):\n",
    "    if n==0: return []\n",
    "    if n==1: return lst\n",
    "    l = [] \n",
    "    for i in range(len(lst)):\n",
    "       m = lst[i]\n",
    "       remLst = lst[:i] + lst[i+1:]\n",
    "       for p in permutation(remLst, n-1):\n",
    "            a = [m]\n",
    "            for i in p:\n",
    "                a.extend(i) \n",
    "            l.append(a)\n",
    "    return l\n",
    "\n",
    "def euler32():\n",
    "    ans = set()\n",
    "    for p in permutation(list('123456789'), 5):\n",
    "        a = int(''.join(p[0:3]))\n",
    "        b = int(''.join(p[3:5]))\n",
    "        c = set(p).union(set(str(a*b)))\n",
    "        if len(str(a*b))==4 and len(c) == 9 and sum([int(i) for i in c])==45:\n",
    "            print(a, b, a*b)\n",
    "            ans.add(a*b)\n",
    "        d = int(''.join(p[0:4]))\n",
    "        e = int(''.join(p[4:5]))\n",
    "        f = set(p).union(set(str(d*e)))\n",
    "        if len(str(d*e))==4 and len(f) == 9 and sum([int(i) for i in f])==45:\n",
    "            print(d, e, d*e)\n",
    "            ans.add(d*e)            \n",
    "    return sum(ans)\n",
    "\n",
    "euler32()"
   ]
  },
  {
   "cell_type": "code",
   "execution_count": 32,
   "metadata": {},
   "outputs": [
    {
     "data": {
      "text/plain": [
       "100"
      ]
     },
     "execution_count": 32,
     "metadata": {},
     "output_type": "execute_result"
    }
   ],
   "source": [
    "def permutation(lst: list, n: int):\n",
    "    if n==0: return []\n",
    "    if n==1: return lst\n",
    "    l = [] \n",
    "    for i in range(len(lst)):\n",
    "       m = lst[i]\n",
    "       remLst = lst[:i] + lst[i+1:]\n",
    "       for p in permutation(remLst, n-1):\n",
    "            a = [m]\n",
    "            for i in p:\n",
    "                a.extend(i) \n",
    "            l.append(a)\n",
    "    return l\n",
    "\n",
    "def gcd2(m, n):\n",
    "    while n > 0:\n",
    "        m, n = n, m%n\n",
    "    return m\n",
    "\n",
    "def euler33():\n",
    "    ans = set()\n",
    "    for p in permutation(list('123456789'), 3):\n",
    "        if int(''.join([p[0],p[1]]))*int(p[2]) == int(''.join([p[1],p[2]]))*int(p[0]):\n",
    "            ans.add((min(p[0], p[2]), max(p[0], p[2])))\n",
    "    x, y = 1, 1\n",
    "    for _x, _y in ans:\n",
    "        x *= int(_x)\n",
    "        y *= int(_y)\n",
    "    return y//gcd2(x, y)\n",
    "\n",
    "euler33()"
   ]
  },
  {
   "cell_type": "code",
   "execution_count": 38,
   "metadata": {},
   "outputs": [
    {
     "name": "stdout",
     "output_type": "stream",
     "text": [
      "145\n",
      "40585\n"
     ]
    },
    {
     "data": {
      "text/plain": [
       "40730"
      ]
     },
     "execution_count": 38,
     "metadata": {},
     "output_type": "execute_result"
    }
   ],
   "source": [
    "def euler34():\n",
    "    f = [1]\n",
    "    for i in range(1, 10):\n",
    "        f.append(f[-1]*i)\n",
    "     \n",
    "    ans = 0\n",
    "    for m in range(3, 7*f[-1]):\n",
    "        p, sum_f = m, 0\n",
    "        while p > 0:\n",
    "            p, r = divmod(p, 10)\n",
    "            sum_f += f[r]\n",
    "        if m == sum_f: \n",
    "            print(m)\n",
    "            ans += m\n",
    "    return ans\n",
    "\n",
    "euler34()"
   ]
  },
  {
   "cell_type": "code",
   "execution_count": 68,
   "metadata": {},
   "outputs": [
    {
     "data": {
      "text/plain": [
       "55"
      ]
     },
     "execution_count": 68,
     "metadata": {},
     "output_type": "execute_result"
    }
   ],
   "source": [
    "def is_prime(n: int):\n",
    "    if n <= 3:\n",
    "        if n == 2 or n == 3: return True\n",
    "        else: return False\n",
    "    if n % 6 != 1 and n % 6 != 5: return False\n",
    "    for q in range(2, int(pow(n, 0.5))+1):\n",
    "        if n % q == 0: return False\n",
    "    return True\n",
    "\n",
    "def euler35(n: int):\n",
    "    ans = list()\n",
    "    for m in range(2, n):\n",
    "        if is_prime(m) and m not in ans: \n",
    "            l, tmp = [m], m\n",
    "            \n",
    "            flag_l = True\n",
    "            while flag_l:\n",
    "                q, r = divmod(tmp, 10)\n",
    "                test = r*pow(10, len(str(q)))+q if q != 0 else r\n",
    "                if test not in l: \n",
    "                    l.append(test)\n",
    "                    tmp = test\n",
    "                else: flag_l = False\n",
    "            \n",
    "            flag_p = True\n",
    "            for p in l:\n",
    "                flag_p *= is_prime(p)\n",
    "            \n",
    "            if flag_p: \n",
    "                for p in l:\n",
    "                    ans.append(p)\n",
    "\n",
    "    return len(ans)\n",
    "\n",
    "euler35(1000000)\n"
   ]
  },
  {
   "cell_type": "code",
   "execution_count": 78,
   "metadata": {},
   "outputs": [
    {
     "data": {
      "text/plain": [
       "872187"
      ]
     },
     "execution_count": 78,
     "metadata": {},
     "output_type": "execute_result"
    }
   ],
   "source": [
    "def euler36(n: int):\n",
    "    ans = list()\n",
    "    for i in range(1, n, 2):\n",
    "        if str(i) == str(i)[::-1] and bin(i)[2:] == bin(i)[2:][::-1]:\n",
    "            ans.append((i, bin(i)[2:]))\n",
    "    return sum([k for k, v in ans])\n",
    "\n",
    "euler36(1000000)"
   ]
  },
  {
   "cell_type": "code",
   "execution_count": 90,
   "metadata": {},
   "outputs": [
    {
     "data": {
      "text/plain": [
       "748317"
      ]
     },
     "execution_count": 90,
     "metadata": {},
     "output_type": "execute_result"
    }
   ],
   "source": [
    "def euler37():\n",
    "    cnt = 0\n",
    "    ans = []\n",
    "    p = 11\n",
    "    while cnt < 11:\n",
    "        if is_prime(p):\n",
    "            m, n = p, str(p)\n",
    "            flag_left, flag_right = True, True\n",
    "            while m > 9:\n",
    "                flag_left *= is_prime(m//10)\n",
    "                m //= 10\n",
    "            while len(n)>1:\n",
    "                flag_right *= is_prime(int(n[1:]))\n",
    "                n = n[1:]\n",
    "            if flag_left*flag_right:\n",
    "                cnt += 1\n",
    "                ans.append(p)\n",
    "        p += 2\n",
    "    return sum(ans)\n",
    "\n",
    "euler37()"
   ]
  },
  {
   "cell_type": "code",
   "execution_count": null,
   "metadata": {},
   "outputs": [],
   "source": []
  }
 ],
 "metadata": {
  "kernelspec": {
   "display_name": "Python 3",
   "language": "python",
   "name": "python3"
  },
  "language_info": {
   "codemirror_mode": {
    "name": "ipython",
    "version": 3
   },
   "file_extension": ".py",
   "mimetype": "text/x-python",
   "name": "python",
   "nbconvert_exporter": "python",
   "pygments_lexer": "ipython3",
   "version": "3.9.6"
  }
 },
 "nbformat": 4,
 "nbformat_minor": 2
}
