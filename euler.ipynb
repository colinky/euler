{
 "cells": [
  {
   "cell_type": "code",
   "execution_count": 5,
   "metadata": {},
   "outputs": [
    {
     "data": {
      "text/plain": [
       "233168"
      ]
     },
     "execution_count": 5,
     "metadata": {},
     "output_type": "execute_result"
    }
   ],
   "source": [
    "def euler1(n: int):\n",
    "    below_n = n-1\n",
    "    below_n3, below_n5, below_n15 = below_n//3, below_n//5, below_n//15\n",
    "    sum3 = 3 * below_n3 * (below_n3+1)//2\n",
    "    sum5 = 5 * below_n5 * (below_n5+1)//2\n",
    "    sum15 = 15 * below_n15 * (below_n15+1)//2\n",
    "    return sum3+sum5-sum15\n",
    "\n",
    "euler1(1000)"
   ]
  },
  {
   "cell_type": "code",
   "execution_count": 7,
   "metadata": {},
   "outputs": [
    {
     "data": {
      "text/plain": [
       "4613732"
      ]
     },
     "execution_count": 7,
     "metadata": {},
     "output_type": "execute_result"
    }
   ],
   "source": [
    "def euler2(n: int):\n",
    "    fib = [1, 1]\n",
    "    ret = 0\n",
    "    while fib[-1] < n:\n",
    "        new_fib = fib[-1]+fib[-2]\n",
    "        fib.append(new_fib)\n",
    "        if new_fib % 2 == 0: ret += new_fib\n",
    "    return ret\n",
    "\n",
    "euler2(4000000)"
   ]
  },
  {
   "cell_type": "code",
   "execution_count": 47,
   "metadata": {},
   "outputs": [
    {
     "data": {
      "text/plain": [
       "47"
      ]
     },
     "execution_count": 47,
     "metadata": {},
     "output_type": "execute_result"
    }
   ],
   "source": [
    "def is_prime(n: int):\n",
    "    if n <= 3:\n",
    "        if n == 2 or n == 3: return True\n",
    "        else: return False\n",
    "    if n % 6 != 1 and n % 6 != 5: return False\n",
    "    for q in range(2, int(pow(n, 0.5))+1):\n",
    "        if n % q == 0: return False\n",
    "    return True\n",
    "\n",
    "def euler3(input: int):\n",
    "    factors = []\n",
    "    prime = 2\n",
    "    n = input\n",
    "    while n != 1:\n",
    "        if n % prime == 0:\n",
    "            factors.append(prime)\n",
    "            n = n//prime\n",
    "        else:\n",
    "            prime += 1\n",
    "            while not is_prime(prime):\n",
    "                prime += 1\n",
    "    return factors[-1]\n",
    "\n",
    "euler3(600851475143)"
   ]
  },
  {
   "cell_type": "code",
   "execution_count": 51,
   "metadata": {},
   "outputs": [
    {
     "data": {
      "text/plain": [
       "(906609, [993, 913])"
      ]
     },
     "execution_count": 51,
     "metadata": {},
     "output_type": "execute_result"
    }
   ],
   "source": [
    "def euler4():\n",
    "    ret = 0\n",
    "    for p in range(999, 100, -1):\n",
    "        test = p * 1000\n",
    "        test, p = test+(p % 10) * 100, p // 10\n",
    "        test, p = test+(p % 10) * 10, p // 10\n",
    "        test = test+(p % 10)\n",
    "        ret = test\n",
    "\n",
    "        multiple, cnt = 999, []\n",
    "        while test != 1 and multiple >= 100:\n",
    "            if test % multiple == 0:\n",
    "                test = test//multiple\n",
    "                cnt.append(multiple)\n",
    "            else:\n",
    "                multiple -= 1\n",
    "        \n",
    "        if len(cnt) == 2 and test == 1: return ret, cnt\n",
    "\n",
    "euler4()"
   ]
  },
  {
   "cell_type": "code",
   "execution_count": 57,
   "metadata": {},
   "outputs": [
    {
     "data": {
      "text/plain": [
       "232792560"
      ]
     },
     "execution_count": 57,
     "metadata": {},
     "output_type": "execute_result"
    }
   ],
   "source": [
    "def euler5(n: int):\n",
    "    multiple = dict()\n",
    "    for p in range(2, n+1):\n",
    "        tmp, prime = dict(), 2\n",
    "        while p != 1:\n",
    "            if p % prime == 0:\n",
    "                if prime in tmp: tmp[prime] += 1\n",
    "                else: tmp[prime] = 1\n",
    "                p = p//prime\n",
    "            else:\n",
    "                prime += 1\n",
    "                while not is_prime(prime):\n",
    "                    prime += 1\n",
    "        for x in tmp.keys():\n",
    "            if x in multiple: multiple[x] = max(multiple[x], tmp[x])\n",
    "            else: multiple[x] = tmp[x]\n",
    "    \n",
    "    ret = 1\n",
    "    for y in multiple.keys():\n",
    "        ret *= pow(y, multiple[y])\n",
    "    return ret\n",
    "\n",
    "euler5(20)\n"
   ]
  },
  {
   "cell_type": "code",
   "execution_count": 58,
   "metadata": {},
   "outputs": [
    {
     "data": {
      "text/plain": [
       "232792560"
      ]
     },
     "execution_count": 58,
     "metadata": {},
     "output_type": "execute_result"
    }
   ],
   "source": [
    "def euler5(n: int):\n",
    "    answer = 1  \n",
    "    div = 2\n",
    "    while div <= n:\n",
    "        if is_prime(div):\n",
    "            multiple = div\n",
    "            while (multiple * div) <= n:\n",
    "                multiple *= div\n",
    "            answer *= multiple\n",
    "        div += 1 if div == 2 else 2\n",
    "    return answer\n",
    "\n",
    "euler5(20)"
   ]
  },
  {
   "cell_type": "code",
   "execution_count": null,
   "metadata": {},
   "outputs": [],
   "source": []
  }
 ],
 "metadata": {
  "kernelspec": {
   "display_name": "Python 3",
   "language": "python",
   "name": "python3"
  },
  "language_info": {
   "codemirror_mode": {
    "name": "ipython",
    "version": 3
   },
   "file_extension": ".py",
   "mimetype": "text/x-python",
   "name": "python",
   "nbconvert_exporter": "python",
   "pygments_lexer": "ipython3",
   "version": "3.9.6"
  }
 },
 "nbformat": 4,
 "nbformat_minor": 2
}
